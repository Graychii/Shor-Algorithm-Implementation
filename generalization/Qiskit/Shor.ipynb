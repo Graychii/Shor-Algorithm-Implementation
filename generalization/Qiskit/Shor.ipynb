{
 "cells": [
  {
   "cell_type": "code",
   "execution_count": 104,
   "id": "b5ac46af",
   "metadata": {},
   "outputs": [],
   "source": [
    "\n",
    "!jt -t monokai"
   ]
  },
  {
   "cell_type": "code",
   "execution_count": 16,
   "id": "ad3d8d29",
   "metadata": {},
   "outputs": [],
   "source": [
    "from qiskit import QuantumCircuit, transpile\n",
    "from qiskit.quantum_info import Statevector\n",
    "from qiskit.visualization import plot_histogram\n",
    "from qiskit.circuit import QuantumRegister, ClassicalRegister\n",
    "from qiskit_aer import Aer\n",
    "from qiskit.circuit.library import QFT\n",
    "from math import gcd, ceil, log2\n",
    "import numpy as np\n",
    "from fractions import Fraction\n",
    "from IPython.display import display\n",
    "from qiskit_ibm_runtime import QiskitRuntimeService, Sampler, Estimator\n",
    "import requests\n",
    "import random  "
   ]
  },
  {
   "cell_type": "markdown",
   "id": "2c94343f",
   "metadata": {},
   "source": [
    "## N is limited to 24 bits for now."
   ]
  },
  {
   "cell_type": "code",
   "execution_count": 17,
   "id": "c3b243ee",
   "metadata": {},
   "outputs": [],
   "source": [
    "def retrieve_denominator(decimal_value, n, N):\n",
    "    decimal_value = int(decimal_value)\n",
    "    n = int(n)\n",
    "    N = int(N)\n",
    "    \n",
    "    url = \"http://127.0.0.1:5000/denominator\"\n",
    "    payload = {\n",
    "        \"decimal_value\": decimal_value,\n",
    "        \"n\": n,\n",
    "        \"N\": N\n",
    "    }\n",
    "    try:\n",
    "        response = requests.post(url, json=payload)\n",
    "        if response.status_code == 200:\n",
    "            return response.json().get(\"denominator\")\n",
    "        else:\n",
    "            return f\"Error: {response.status_code}, {response.json().get('error', 'Unknown error')}\"\n",
    "    except Exception as e:\n",
    "        return f\"Request failed: {str(e)}\"\n"
   ]
  },
  {
   "cell_type": "code",
   "execution_count": 30,
   "id": "0727e622",
   "metadata": {},
   "outputs": [],
   "source": [
    "N = 15 # number to factorize\n",
    "N = int(N)\n",
    "n = ceil(log2(N))  # number of bits to represent N\n",
    "q = QuantumRegister(2*n, \"q\")\n",
    "t = QuantumRegister(n, \"t\")\n",
    "c = ClassicalRegister(2*n, \"c\")\n",
    "state = False\n",
    "service = QiskitRuntimeService()\n"
   ]
  },
  {
   "cell_type": "code",
   "execution_count": 31,
   "id": "a37d3aee",
   "metadata": {},
   "outputs": [],
   "source": [
    "def Uf(circ):\n",
    "    for i in range(2*n):\n",
    "        base = int(a)\n",
    "        exp = int(2**i)\n",
    "        mod = int(N)\n",
    "        mod_exp = pow(base, exp, mod)\n",
    "        circ.cp(2*np.pi*float(mod_exp)/float(N), q[i], t)"
   ]
  },
  {
   "cell_type": "markdown",
   "id": "e84a4dc3",
   "metadata": {},
   "source": [
    "## Ensure denominator.py is running."
   ]
  },
  {
   "cell_type": "code",
   "execution_count": 33,
   "id": "cac81bf3",
   "metadata": {
    "scrolled": true
   },
   "outputs": [
    {
     "name": "stdout",
     "output_type": "stream",
     "text": [
      "Chosen base a = 2\n"
     ]
    },
    {
     "name": "stderr",
     "output_type": "stream",
     "text": [
      "C:\\Users\\HP User\\AppData\\Local\\Temp\\ipykernel_15912\\4289667536.py:26: DeprecationWarning: backend.run() and related sessions methods are deprecated  as of qiskit-ibm-runtime 0.23 and will be removed no sooner than 6 months after the release date. More details can be found in the primitives migration guide https://docs.quantum.ibm.com/migration-guides/qiskit-runtime.\n",
      "  result = backend.run(compiled, shots=1024).result()\n"
     ]
    },
    {
     "name": "stdout",
     "output_type": "stream",
     "text": [
      "The factors for 15 are: 3, 5\n"
     ]
    }
   ],
   "source": [
    "while not state:\n",
    "    a = random.randint(2, N-1)\n",
    "    \n",
    "    while gcd(a, N) > 1:\n",
    "        a = random.randint(2, N-1)\n",
    "    \n",
    "    print(f\"Chosen base a = {a}\")\n",
    "    \n",
    "    \n",
    "    qpe = QuantumCircuit(q, t, c)\n",
    "    qpe.x(t)\n",
    "    qpe.barrier()\n",
    "    qpe.h(q)\n",
    "    Uf(qpe)\n",
    "    qpe.append(QFT(2*n, inverse=True), q)\n",
    "    qpe.measure(range(n*2), range(n*2))\n",
    "    qpe.barrier()\n",
    "    qpe.measure(q, c)\n",
    "    backend = service.least_busy(\n",
    "        simulator=False,\n",
    "        operational=True,\n",
    "        min_num_qubits=2*ceil(log2(N))\n",
    "    )\n",
    "    \n",
    "    compiled = transpile(qpe, backend)\n",
    "    result = backend.run(compiled, shots=1024).result()\n",
    "    counts = result.get_counts()\n",
    "    sorted_measurements = sorted(counts.items(), key=lambda x: x[1], reverse=True)\n",
    "    \n",
    "    for measurement, _ in sorted_measurements:\n",
    "        decimal_value = int(measurement, 2)\n",
    "        r = retrieve_denominator(decimal_value, n, N)\n",
    "        \n",
    "        if isinstance(r, int) and r % 2 == 0:\n",
    "            x = pow(a, r // 2, N)\n",
    "            factors = (gcd(x - 1, N), gcd(x + 1, N))\n",
    "            \n",
    "            if (factors[0] != 1 or factors[1] != 1) and (factors[0] != N or factors[1] != N):\n",
    "                if factors[0] * factors[1] == N:\n",
    "                    print(f\"The factors for {N} are: {factors[0]}, {factors[1]}\")\n",
    "                    state = True\n",
    "                    break\n",
    "                elif factors[0] != 1 and ((N // factors[0]) * factors[0] == N):\n",
    "                    print(f\"The factors for {N} are: {factors[0]}, {N // factors[0]}\")\n",
    "                    state = True\n",
    "                    break\n",
    "                elif factors[1] != 1 and ((N // factors[1]) * factors[1] == N):\n",
    "                    print(f\"The factors for {N} are: {factors[1]}, {N // factors[1]}\")\n",
    "                    state = True\n",
    "                    break"
   ]
  }
 ],
 "metadata": {
  "kernelspec": {
   "display_name": "Python 3 (ipykernel)",
   "language": "python",
   "name": "python3"
  },
  "language_info": {
   "codemirror_mode": {
    "name": "ipython",
    "version": 3
   },
   "file_extension": ".py",
   "mimetype": "text/x-python",
   "name": "python",
   "nbconvert_exporter": "python",
   "pygments_lexer": "ipython3",
   "version": "3.11.0"
  }
 },
 "nbformat": 4,
 "nbformat_minor": 5
}
