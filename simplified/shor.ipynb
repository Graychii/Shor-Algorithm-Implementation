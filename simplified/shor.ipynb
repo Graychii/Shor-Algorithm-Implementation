{
 "cells": [
  {
   "cell_type": "markdown",
   "metadata": {},
   "source": [
    "### Experimenting with Shor's Algorithm to Break RSA\n",
    "\n",
    "#### Experiment Overview\n",
    "\n",
    "The goal of this experiment was to implement Shor's algorithm and test its ability to break RSA encryption by factoring the RSA modulus. This work explores the practical challenges and considerations involved in leveraging quantum computing for cryptographic analysis.\n",
    "\n",
    "#### Introduction to Shor's Algorithm\n",
    "\n",
    "Shor's algorithm is a quantum algorithm designed for factoring large integers efficiently. Unlike classical algorithms, which perform this task with exponential time complexity, Shor's algorithm utilizes quantum mechanics principles to achieve polynomial time complexity for this problem. Its efficiency is based on:\n",
    "\n",
    "1. Quantum Fourier Transform (QFT): To determine periodicity.\n",
    "\n",
    "2. Modular Exponentiation: To compute powers modulo a number.\n",
    "\n",
    "3. Continued Fraction Expansion: To extract the period from the QFT result.\n",
    "\n",
    "\n",
    "#### Motivation \n",
    "\n",
    "This experiment was motivated by the potential application of Shor's algorithm to break RSA encryption, which relies on the difficulty of factoring large composite numbers. Testing Shor's algorithm on RSA-encrypted numbers provides insights into its practicality and limitations.\n",
    "\n",
    "\n",
    "#### Methodology\n",
    "\n",
    "1. Implementation\n",
    "\n",
    "    - The algorithm was implemented using Qiskit, an open-source quantum computing framework that provides tools for building and simulating quantum circuits. The implementation focused on accurately constructing the quantum circuit for Shor's algorithm and performing modular exponentiation within the quantum framework.\n",
    "    - The implementation involved:\n",
    "\n",
    "        - Getting a Token: Acquiring an IBM Quantum Experience API token to connect with IBM's RuntimeService for executing quantum circuits on actual quantum hardware.\n",
    "\n",
    "        - Connecting to RuntimeService: Setting up the environment to access IBM's quantum resources and ensuring compatibility with the Qiskit runtime.\n",
    "\n",
    "        - Building the Circuit: Constructing the quantum circuit for modular exponentiation and the Quantum Fourier Transform (QFT).\n",
    "\n",
    "        - Simulations: Testing the algorithm on local simulators before deploying on IBM's quantum hardware.\n",
    "\n",
    "2. Target\n",
    "\n",
    "    - The RSA modulus , composed of two prime factors  and , was used as the target for factoring.\n",
    "\n",
    "3. Base Selection\n",
    "\n",
    "    - The base  for modular exponentiation was chosen randomly within the range. Key considerations included:\n",
    "\n",
    "        - The greatest common divisor (GCD) of  and  should ideally be 1.\n",
    "\n",
    "        - Behavior of the algorithm for specific base values.\n",
    "\n",
    "\n",
    "### Key Steps in the Code:\n",
    "1. Loading IBMQ Account: \n",
    "    - The IBM Quantum Experience API token is used to load the account and get the provider for IBM quantum hardware.\n",
    "\n",
    "2. Running Shor’s Algorithm: \n",
    "    - The Shor object is used to factor a number N (in this case, the RSA modulus 15). The result shows the factors of N.\n",
    "\n",
    "\n",
    "### Limitations\n",
    "\n",
    "#### 1. Resource Availability:\n",
    "\n",
    "- IBM's quantum computing resources were not always accessible, causing delays in the experiment.\n",
    "\n",
    "#### 2.  Lack of Documentation:\n",
    "\n",
    "- Comprehensive guidance for implementing Shor's algorithm in Pennylane is sparse, which led to additional challenges.\n",
    "\n",
    "- couldn't connect to IBM properly, and since Qiskit was more compatible with IBM's service, we had to switch to it last minute.\n",
    "\n",
    "#### 3. Base Selection Challenges:\n",
    "\n",
    "- Some base choices did not match the expected behavior of the algorithm, leading to inefficiencies or failures in factoring.\n",
    "\n",
    "#### 4. Error Correction Considerations:\n",
    "\n",
    "- Quantum error correction was not incorporated, which impacted the reliability of the results.\n",
    "\n",
    "### Results\n",
    "\n",
    "- The experiment demonstrated the feasibility of implementing Shor's algorithm using Qiskit.\n",
    "\n",
    "- Factoring smaller RSA-moduli was successful in some cases, though inconsistencies arose due to the limitations noted above."
   ]
  },
  {
   "cell_type": "markdown",
   "metadata": {},
   "source": [
    "### necessary instalations"
   ]
  },
  {
   "cell_type": "code",
   "execution_count": 1,
   "metadata": {},
   "outputs": [
    {
     "name": "stdout",
     "output_type": "stream",
     "text": [
      "Requirement already satisfied: qiskit in c:\\users\\asus\\anaconda35\\lib\\site-packages (1.2.4)\n",
      "Requirement already satisfied: rustworkx>=0.15.0 in c:\\users\\asus\\anaconda35\\lib\\site-packages (from qiskit) (0.15.1)\n",
      "Requirement already satisfied: numpy<3,>=1.17 in c:\\users\\asus\\anaconda35\\lib\\site-packages (from qiskit) (1.26.4)\n",
      "Requirement already satisfied: scipy>=1.5 in c:\\users\\asus\\anaconda35\\lib\\site-packages (from qiskit) (1.13.1)\n",
      "Requirement already satisfied: sympy>=1.3 in c:\\users\\asus\\anaconda35\\lib\\site-packages (from qiskit) (1.12)\n",
      "Requirement already satisfied: dill>=0.3 in c:\\users\\asus\\anaconda35\\lib\\site-packages (from qiskit) (0.3.8)\n",
      "Requirement already satisfied: python-dateutil>=2.8.0 in c:\\users\\asus\\anaconda35\\lib\\site-packages (from qiskit) (2.9.0.post0)\n",
      "Requirement already satisfied: stevedore>=3.0.0 in c:\\users\\asus\\anaconda35\\lib\\site-packages (from qiskit) (5.4.0)\n",
      "Requirement already satisfied: typing-extensions in c:\\users\\asus\\anaconda35\\lib\\site-packages (from qiskit) (4.11.0)\n",
      "Requirement already satisfied: symengine<0.14,>=0.11 in c:\\users\\asus\\anaconda35\\lib\\site-packages (from qiskit) (0.13.0)\n",
      "Requirement already satisfied: six>=1.5 in c:\\users\\asus\\anaconda35\\lib\\site-packages (from python-dateutil>=2.8.0->qiskit) (1.16.0)\n",
      "Requirement already satisfied: pbr>=2.0.0 in c:\\users\\asus\\anaconda35\\lib\\site-packages (from stevedore>=3.0.0->qiskit) (6.1.0)\n",
      "Requirement already satisfied: mpmath>=0.19 in c:\\users\\asus\\anaconda35\\lib\\site-packages (from sympy>=1.3->qiskit) (1.3.0)\n",
      "Note: you may need to restart the kernel to use updated packages.\n"
     ]
    }
   ],
   "source": [
    "pip install qiskit"
   ]
  },
  {
   "cell_type": "code",
   "execution_count": 2,
   "metadata": {},
   "outputs": [
    {
     "name": "stdout",
     "output_type": "stream",
     "text": [
      "Requirement already satisfied: qiskit_aer in c:\\users\\asus\\anaconda35\\lib\\site-packages (0.15.1)\n",
      "Requirement already satisfied: qiskit>=1.1.0 in c:\\users\\asus\\anaconda35\\lib\\site-packages (from qiskit_aer) (1.2.4)\n",
      "Requirement already satisfied: numpy>=1.16.3 in c:\\users\\asus\\anaconda35\\lib\\site-packages (from qiskit_aer) (1.26.4)\n",
      "Requirement already satisfied: scipy>=1.0 in c:\\users\\asus\\anaconda35\\lib\\site-packages (from qiskit_aer) (1.13.1)\n",
      "Requirement already satisfied: psutil>=5 in c:\\users\\asus\\anaconda35\\lib\\site-packages (from qiskit_aer) (5.9.0)\n",
      "Requirement already satisfied: rustworkx>=0.15.0 in c:\\users\\asus\\anaconda35\\lib\\site-packages (from qiskit>=1.1.0->qiskit_aer) (0.15.1)\n",
      "Requirement already satisfied: sympy>=1.3 in c:\\users\\asus\\anaconda35\\lib\\site-packages (from qiskit>=1.1.0->qiskit_aer) (1.12)\n",
      "Requirement already satisfied: dill>=0.3 in c:\\users\\asus\\anaconda35\\lib\\site-packages (from qiskit>=1.1.0->qiskit_aer) (0.3.8)\n",
      "Requirement already satisfied: python-dateutil>=2.8.0 in c:\\users\\asus\\anaconda35\\lib\\site-packages (from qiskit>=1.1.0->qiskit_aer) (2.9.0.post0)\n",
      "Requirement already satisfied: stevedore>=3.0.0 in c:\\users\\asus\\anaconda35\\lib\\site-packages (from qiskit>=1.1.0->qiskit_aer) (5.4.0)\n",
      "Requirement already satisfied: typing-extensions in c:\\users\\asus\\anaconda35\\lib\\site-packages (from qiskit>=1.1.0->qiskit_aer) (4.11.0)\n",
      "Requirement already satisfied: symengine<0.14,>=0.11 in c:\\users\\asus\\anaconda35\\lib\\site-packages (from qiskit>=1.1.0->qiskit_aer) (0.13.0)\n",
      "Requirement already satisfied: six>=1.5 in c:\\users\\asus\\anaconda35\\lib\\site-packages (from python-dateutil>=2.8.0->qiskit>=1.1.0->qiskit_aer) (1.16.0)\n",
      "Requirement already satisfied: pbr>=2.0.0 in c:\\users\\asus\\anaconda35\\lib\\site-packages (from stevedore>=3.0.0->qiskit>=1.1.0->qiskit_aer) (6.1.0)\n",
      "Requirement already satisfied: mpmath>=0.19 in c:\\users\\asus\\anaconda35\\lib\\site-packages (from sympy>=1.3->qiskit>=1.1.0->qiskit_aer) (1.3.0)\n",
      "Note: you may need to restart the kernel to use updated packages.\n"
     ]
    }
   ],
   "source": [
    "pip install qiskit_aer"
   ]
  },
  {
   "cell_type": "code",
   "execution_count": 3,
   "metadata": {},
   "outputs": [
    {
     "name": "stdout",
     "output_type": "stream",
     "text": [
      "Requirement already satisfied: qiskit-ibm-runtime in c:\\users\\asus\\anaconda35\\lib\\site-packages (0.29.0)\n",
      "Requirement already satisfied: requests>=2.19 in c:\\users\\asus\\anaconda35\\lib\\site-packages (from qiskit-ibm-runtime) (2.32.2)\n",
      "Requirement already satisfied: requests-ntlm>=1.1.0 in c:\\users\\asus\\anaconda35\\lib\\site-packages (from qiskit-ibm-runtime) (1.3.0)\n",
      "Requirement already satisfied: numpy>=1.13 in c:\\users\\asus\\anaconda35\\lib\\site-packages (from qiskit-ibm-runtime) (1.26.4)\n",
      "Requirement already satisfied: urllib3>=1.21.1 in c:\\users\\asus\\anaconda35\\lib\\site-packages (from qiskit-ibm-runtime) (2.2.2)\n",
      "Requirement already satisfied: python-dateutil>=2.8.0 in c:\\users\\asus\\anaconda35\\lib\\site-packages (from qiskit-ibm-runtime) (2.9.0.post0)\n",
      "Requirement already satisfied: websocket-client>=1.5.1 in c:\\users\\asus\\anaconda35\\lib\\site-packages (from qiskit-ibm-runtime) (1.8.0)\n",
      "Requirement already satisfied: ibm-platform-services>=0.22.6 in c:\\users\\asus\\anaconda35\\lib\\site-packages (from qiskit-ibm-runtime) (0.59.0)\n",
      "Requirement already satisfied: pydantic>=2.5.0 in c:\\users\\asus\\anaconda35\\lib\\site-packages (from qiskit-ibm-runtime) (2.5.3)\n",
      "Requirement already satisfied: qiskit>=1.1.0 in c:\\users\\asus\\anaconda35\\lib\\site-packages (from qiskit-ibm-runtime) (1.2.4)\n",
      "Requirement already satisfied: ibm-cloud-sdk-core<4.0.0,>=3.22.0 in c:\\users\\asus\\anaconda35\\lib\\site-packages (from ibm-platform-services>=0.22.6->qiskit-ibm-runtime) (3.22.0)\n",
      "Requirement already satisfied: annotated-types>=0.4.0 in c:\\users\\asus\\anaconda35\\lib\\site-packages (from pydantic>=2.5.0->qiskit-ibm-runtime) (0.6.0)\n",
      "Requirement already satisfied: pydantic-core==2.14.6 in c:\\users\\asus\\anaconda35\\lib\\site-packages (from pydantic>=2.5.0->qiskit-ibm-runtime) (2.14.6)\n",
      "Requirement already satisfied: typing-extensions>=4.6.1 in c:\\users\\asus\\anaconda35\\lib\\site-packages (from pydantic>=2.5.0->qiskit-ibm-runtime) (4.11.0)\n",
      "Requirement already satisfied: six>=1.5 in c:\\users\\asus\\anaconda35\\lib\\site-packages (from python-dateutil>=2.8.0->qiskit-ibm-runtime) (1.16.0)\n",
      "Requirement already satisfied: rustworkx>=0.15.0 in c:\\users\\asus\\anaconda35\\lib\\site-packages (from qiskit>=1.1.0->qiskit-ibm-runtime) (0.15.1)\n",
      "Requirement already satisfied: scipy>=1.5 in c:\\users\\asus\\anaconda35\\lib\\site-packages (from qiskit>=1.1.0->qiskit-ibm-runtime) (1.13.1)\n",
      "Requirement already satisfied: sympy>=1.3 in c:\\users\\asus\\anaconda35\\lib\\site-packages (from qiskit>=1.1.0->qiskit-ibm-runtime) (1.12)\n",
      "Requirement already satisfied: dill>=0.3 in c:\\users\\asus\\anaconda35\\lib\\site-packages (from qiskit>=1.1.0->qiskit-ibm-runtime) (0.3.8)\n",
      "Requirement already satisfied: stevedore>=3.0.0 in c:\\users\\asus\\anaconda35\\lib\\site-packages (from qiskit>=1.1.0->qiskit-ibm-runtime) (5.4.0)\n",
      "Requirement already satisfied: symengine<0.14,>=0.11 in c:\\users\\asus\\anaconda35\\lib\\site-packages (from qiskit>=1.1.0->qiskit-ibm-runtime) (0.13.0)\n",
      "Requirement already satisfied: charset-normalizer<4,>=2 in c:\\users\\asus\\anaconda35\\lib\\site-packages (from requests>=2.19->qiskit-ibm-runtime) (2.0.4)\n",
      "Requirement already satisfied: idna<4,>=2.5 in c:\\users\\asus\\anaconda35\\lib\\site-packages (from requests>=2.19->qiskit-ibm-runtime) (3.7)\n",
      "Requirement already satisfied: certifi>=2017.4.17 in c:\\users\\asus\\anaconda35\\lib\\site-packages (from requests>=2.19->qiskit-ibm-runtime) (2024.8.30)\n",
      "Requirement already satisfied: cryptography>=1.3 in c:\\users\\asus\\anaconda35\\lib\\site-packages (from requests-ntlm>=1.1.0->qiskit-ibm-runtime) (42.0.5)\n",
      "Requirement already satisfied: pyspnego>=0.4.0 in c:\\users\\asus\\anaconda35\\lib\\site-packages (from requests-ntlm>=1.1.0->qiskit-ibm-runtime) (0.11.2)\n",
      "Requirement already satisfied: cffi>=1.12 in c:\\users\\asus\\anaconda35\\lib\\site-packages (from cryptography>=1.3->requests-ntlm>=1.1.0->qiskit-ibm-runtime) (1.16.0)\n",
      "Requirement already satisfied: PyJWT<3.0.0,>=2.8.0 in c:\\users\\asus\\anaconda35\\lib\\site-packages (from ibm-cloud-sdk-core<4.0.0,>=3.22.0->ibm-platform-services>=0.22.6->qiskit-ibm-runtime) (2.8.0)\n",
      "Requirement already satisfied: sspilib>=0.1.0 in c:\\users\\asus\\anaconda35\\lib\\site-packages (from pyspnego>=0.4.0->requests-ntlm>=1.1.0->qiskit-ibm-runtime) (0.2.0)\n",
      "Requirement already satisfied: pbr>=2.0.0 in c:\\users\\asus\\anaconda35\\lib\\site-packages (from stevedore>=3.0.0->qiskit>=1.1.0->qiskit-ibm-runtime) (6.1.0)\n",
      "Requirement already satisfied: mpmath>=0.19 in c:\\users\\asus\\anaconda35\\lib\\site-packages (from sympy>=1.3->qiskit>=1.1.0->qiskit-ibm-runtime) (1.3.0)\n",
      "Requirement already satisfied: pycparser in c:\\users\\asus\\anaconda35\\lib\\site-packages (from cffi>=1.12->cryptography>=1.3->requests-ntlm>=1.1.0->qiskit-ibm-runtime) (2.21)\n",
      "Note: you may need to restart the kernel to use updated packages.\n"
     ]
    }
   ],
   "source": [
    "pip install qiskit-ibm-runtime\n"
   ]
  },
  {
   "cell_type": "markdown",
   "metadata": {},
   "source": [
    "### SOME IMPORTS"
   ]
  },
  {
   "cell_type": "code",
   "execution_count": 22,
   "metadata": {},
   "outputs": [
    {
     "name": "stdout",
     "output_type": "stream",
     "text": [
      "Imports Successful\n"
     ]
    }
   ],
   "source": [
    "from qiskit import QuantumCircuit\n",
    "from qiskit_ibm_runtime import  Session\n",
    "from qiskit_aer import AerSimulator\n",
    "from qiskit import transpile\n",
    "# pylint: disable=invalid-name\n",
    "import matplotlib.pyplot as plt\n",
    "import numpy as np\n",
    "from qiskit import QuantumCircuit\n",
    "from qiskit.visualization import plot_histogram\n",
    "from math import gcd\n",
    "from numpy.random import randint\n",
    "import pandas as pd\n",
    "from fractions import Fraction\n",
    "from qiskit_aer import Aer\n",
    "print(\"Imports Successful\")"
   ]
  },
  {
   "cell_type": "markdown",
   "metadata": {},
   "source": [
    "### IBM Service Connection\n"
   ]
  },
  {
   "cell_type": "code",
   "execution_count": 154,
   "metadata": {},
   "outputs": [],
   "source": [
    "from qiskit_ibm_runtime import QiskitRuntimeService\n",
    "\n",
    "TOK = \"your-token\"\n",
    "\n",
    "# Authenticate with IBM Quantum Runtime using your API token\n",
    "service = QiskitRuntimeService(channel='ibm_quantum',token=TOK)\n"
   ]
  },
  {
   "cell_type": "markdown",
   "metadata": {},
   "source": [
    "## Getting Started\n",
    "\n"
   ]
  },
  {
   "cell_type": "markdown",
   "metadata": {},
   "source": [
    "#### Local Simulation of Shor's Algorithm for Factoring 15\n",
    "\n",
    "We will begin by **locally simulating the Shor circuit** to test its ability to factor the number 15. This will allow us to verify the implementation of the algorithm and ensure that the basic components of Shor's algorithm, such as **modular exponentiation** and the **Quantum Fourier Transform (QFT)**, are functioning as expected in a controlled environment before running on actual quantum hardware.\n"
   ]
  },
  {
   "cell_type": "markdown",
   "metadata": {},
   "source": [
    "## Next Steps: Local Simulation of Shor's Algorithm for Factoring 15\n",
    "\n",
    "We will begin by **locally simulating the Shor circuit** to test its ability to factor the number 15. This will allow us to verify the implementation of the algorithm and ensure that the basic components of Shor's algorithm, such as **modular exponentiation** and the **Quantum Fourier Transform (QFT)**, are functioning as expected in a controlled environment before running on actual quantum hardware.\n",
    "\n",
    "### Steps for Simulation:\n",
    "\n",
    "1. **Define the Problem:**\n",
    "   - The goal is to factor the number **15** using Shor's algorithm. The number 15 is a relatively small number, making it an ideal candidate for initial testing.\n",
    "\n",
    "2. **Create the Quantum Circuit:**\n",
    "   - Build the quantum circuit that implements Shor's algorithm. This includes setting up the necessary qubits and gates for performing **modular exponentiation** and the **QFT**.\n",
    "   \n",
    "3. **Set Parameters:**\n",
    "   - Select the base `a` for the modular exponentiation step. For the number 15, common choices for `a` include values like 2 or 4, but we will experiment with different bases to observe how they affect the results.\n",
    "   \n",
    "4. **Run the Simulation:**\n",
    "   - Using **Qiskit**, we will simulate the Shor algorithm on a classical simulator. This allows us to test the algorithm without needing access to quantum hardware, providing a faster turnaround for debugging and fine-tuning.\n",
    "\n",
    "5. **Analyze Results:**\n",
    "   - After running the simulation, we will analyze the output to determine if the algorithm successfully factors the number 15. If the result is correct, we will proceed to test larger numbers and move towards using actual quantum hardware.\n",
    "\n",
    "### Why This Step?\n",
    "\n",
    "Simulating Shor's algorithm locally for factoring a small number like 15 will give us an initial understanding of how well the quantum circuit performs. It also allows us to identify any potential issues with the implementation before scaling to more complex numbers or running on actual quantum machines.\n"
   ]
  },
  {
   "cell_type": "markdown",
   "metadata": {},
   "source": [
    "### Period Finding: c_amod15\n",
    "\n",
    "#### Overview\n",
    "\n",
    "The **Period Finding** step is a crucial part of Shor's algorithm, which aims to find the period `r` of a function. The function we use in this case is `c_amod15`, where `a` is a base number, and the function is defined as:\n",
    "\n",
    "$$ f(x) = a^x \\mod 15 $$\n",
    "\n",
    "This step is essential for factoring large numbers, as it determines the period of the modular exponentiation function, which is then used to identify the factors of the number.\n",
    "\n",
    "#### Function: `c_amod15`\n",
    "\n",
    "The function `c_amod15` is defined as:\n",
    "\n",
    "$$ f(x) = a^x \\mod 15 $$\n",
    "\n",
    "Where `a` is a randomly selected base, and `x` is the exponent that varies. The goal is to find the smallest integer `r` (the period) such that:\n",
    "\n",
    "$$ a^r \\mod 15 = 1 $$\n",
    "\n",
    "This is the point where the modular exponentiation starts repeating itself, and identifying this period is key to breaking RSA encryption using Shor's algorithm.\n"
   ]
  },
  {
   "cell_type": "code",
   "execution_count": 155,
   "metadata": {},
   "outputs": [],
   "source": [
    "def c_amod15(a, power):\n",
    "    \"\"\"Controlled multiplication by a mod 15\"\"\"\n",
    "    if a not in [2,4,7,8,11,13]:\n",
    "        raise ValueError(\"'a' must be 2,4,7,8,11 or 13\")\n",
    "    U = QuantumCircuit(4)\n",
    "    for _iteration in range(power):\n",
    "        if a in [2,13]:\n",
    "            U.swap(2,3)\n",
    "            U.swap(1,2)\n",
    "            U.swap(0,1)\n",
    "        if a in [7,8]:\n",
    "            U.swap(0,1)\n",
    "            U.swap(1,2)\n",
    "            U.swap(2,3)\n",
    "        if a in [4, 11]:\n",
    "            U.swap(1,3)\n",
    "            U.swap(0,2)\n",
    "        if a in [7,11,13]:\n",
    "            for q in range(4):\n",
    "                U.x(q)\n",
    "    U = U.to_gate()\n",
    "    U.name = f\"{a}^{power} mod 15\"\n",
    "    c_U = U.control()\n",
    "    return c_U"
   ]
  },
  {
   "cell_type": "markdown",
   "metadata": {},
   "source": [
    "### Quantum Fourier Transform (QFT) Dagger: qft_dagger(n)\n",
    "\n",
    "#### Overview\n",
    "\n",
    "The **Quantum Fourier Transform (QFT)** is a key component of Shor's algorithm, used to extract periodicity from the quantum state. The inverse of QFT, often called **QFT Dagger** or `qft_dagger`, is used to reverse the effects of QFT. This inverse transform is essential when you need to process the quantum state after applying the Fourier transform and obtain the required results for classical post-processing.\n",
    "\n",
    "#### Function: `qft_dagger(n)`\n",
    "\n",
    "The **QFT Dagger** performs the inverse operation of QFT. The purpose of this step is to reverse the quantum state transformation applied by QFT, allowing us to read out the information encoded in the quantum registers.\n",
    "\n",
    "The QFT Dagger is implemented using quantum gates that undo the operations of the QFT, and it can be understood as performing a reverse order of operations compared to the QFT:\n",
    "\n",
    "- **Phase Shift Gates (Inverse)**: These gates adjust the relative phases in the quantum state.\n",
    "- **Hadamard Gates**: Reversed in order, applied from the highest to the lowest qubit.\n",
    "- **Swap Gates**: The qubits are swapped in reverse order compared to the QFT.\n",
    "\n",
    "#### Steps for `qft_dagger(n)`:\n",
    "\n",
    "1. **Initial Quantum State:**\n",
    "   - Before applying QFT Dagger, a quantum state has been transformed by QFT, and you need to reverse it to obtain meaningful results.\n",
    "   \n",
    "2. **Inverse of Phase Shifts:**\n",
    "   - Apply the inverse of the phase shift gates used in QFT. The inverse of the controlled phase shift gate is applied to each qubit, starting from the highest qubit and working downwards.\n",
    "   \n",
    "3. **Hadamard Gates (In Reverse):**\n",
    "   - Apply Hadamard gates in reverse order, starting from the highest qubit to the lowest. This is the reverse of the Hadamard gate application in the QFT.\n",
    "\n",
    "4. **Swap the Qubits:**\n",
    "   - After applying the inverse phase shifts and Hadamard gates, swap the qubits in the reverse order to undo the transformations made during QFT.\n",
    "\n",
    "5. **Result:**\n",
    "   - Once the QFT Dagger is applied, the quantum state will be transformed in such a way that the periodicity information needed for further processing or measurement can be extracted.\n"
   ]
  },
  {
   "cell_type": "code",
   "execution_count": 156,
   "metadata": {},
   "outputs": [],
   "source": [
    "def qft_dagger(n):\n",
    "    \"\"\"n-qubit QFTdagger the first n qubits in circ\"\"\"\n",
    "    qc = QuantumCircuit(n)\n",
    "    # Don't forget the Swaps!\n",
    "    for qubit in range(n//2):\n",
    "        qc.swap(qubit, n-qubit-1)\n",
    "    for j in range(n):\n",
    "        for m in range(j):          \n",
    "            qc.cp(-np.pi/float(2**(j-m)), m, j)\n",
    "        qc.h(j)\n",
    "    qc.name = \"QFT†\"\n",
    "    return qc"
   ]
  },
  {
   "cell_type": "markdown",
   "metadata": {},
   "source": [
    "## Shor's Algorithm Quantum Circuit Implementation\n",
    "\n",
    "The key operations in the quantum circuit are as follows:\n",
    "\n",
    "### 1. Superposition of States\n",
    "The algorithm starts by applying Hadamard gates to the qubits, creating a superposition of all possible states.\n",
    "\n",
    "### 2. Modular Exponentiation\n",
    "A controlled modular exponentiation is performed, where the quantum register is used to compute the value of the base raised to the power of the quantum register value modulo the number to factor, where the base is a randomly selected value, and the number to factor is \\( N \\).\n",
    "\n",
    "### 3. Quantum Fourier Transform (QFT)\n",
    "The Quantum Fourier Transform (QFT) is applied to the state of the quantum register. This step is crucial for extracting the periodicity from the quantum state created by the modular exponentiation.\n",
    "\n",
    "### 4. Measurement and Classical Post-Processing\n",
    "The final step involves measuring the quantum state and applying classical post-processing to extract the period, which is then used to find the factors of \\( N \\).\n",
    "\n",
    "After measurement, the result is used to calculate the period of the modular exponentiation function. The period can then be used to find the factors of \\( N \\) by computing the greatest common divisor of the value raised to the power of half the period minus 1 and the number to factor, and similarly, the greatest common divisor of the value raised to the power of half the period plus 1 and the number to factor.\n",
    "\n",
    "If a non-trivial factor divides the number, it is a factor of \\( N \\). If the period is not found, the algorithm is repeated with a different base.\n"
   ]
  },
  {
   "cell_type": "code",
   "execution_count": 157,
   "metadata": {},
   "outputs": [
    {
     "data": {
      "text/html": [
       "<pre style=\"word-wrap: normal;white-space: pre;background: #fff0;line-height: 1.1;font-family: &quot;Courier New&quot;,Courier,monospace\">      ┌───┐                                                                                                                                                               ┌───────┐┌─┐                           \n",
       " q_0: ┤ H ├───────■───────────────────────────────────────────────────────────────────────────────────────────────────────────────────────────────────────────────────────┤0      ├┤M├───────────────────────────\n",
       "      ├───┤       │                                                                                                                                                       │       │└╥┘┌─┐                        \n",
       " q_1: ┤ H ├───────┼──────────────■────────────────────────────────────────────────────────────────────────────────────────────────────────────────────────────────────────┤1      ├─╫─┤M├────────────────────────\n",
       "      ├───┤       │              │                                                                                                                                        │       │ ║ └╥┘┌─┐                     \n",
       " q_2: ┤ H ├───────┼──────────────┼──────────────■─────────────────────────────────────────────────────────────────────────────────────────────────────────────────────────┤2      ├─╫──╫─┤M├─────────────────────\n",
       "      ├───┤       │              │              │                                                                                                                         │       │ ║  ║ └╥┘┌─┐                  \n",
       " q_3: ┤ H ├───────┼──────────────┼──────────────┼──────────────■──────────────────────────────────────────────────────────────────────────────────────────────────────────┤3      ├─╫──╫──╫─┤M├──────────────────\n",
       "      ├───┤       │              │              │              │                                                                                                          │       │ ║  ║  ║ └╥┘┌─┐               \n",
       " q_4: ┤ H ├───────┼──────────────┼──────────────┼──────────────┼──────────────■───────────────────────────────────────────────────────────────────────────────────────────┤4      ├─╫──╫──╫──╫─┤M├───────────────\n",
       "      ├───┤       │              │              │              │              │                                                                                           │  QFT† │ ║  ║  ║  ║ └╥┘┌─┐            \n",
       " q_5: ┤ H ├───────┼──────────────┼──────────────┼──────────────┼──────────────┼───────────────■───────────────────────────────────────────────────────────────────────────┤5      ├─╫──╫──╫──╫──╫─┤M├────────────\n",
       "      ├───┤       │              │              │              │              │               │                                                                           │       │ ║  ║  ║  ║  ║ └╥┘┌─┐         \n",
       " q_6: ┤ H ├───────┼──────────────┼──────────────┼──────────────┼──────────────┼───────────────┼───────────────■───────────────────────────────────────────────────────────┤6      ├─╫──╫──╫──╫──╫──╫─┤M├─────────\n",
       "      ├───┤       │              │              │              │              │               │               │                                                           │       │ ║  ║  ║  ║  ║  ║ └╥┘┌─┐      \n",
       " q_7: ┤ H ├───────┼──────────────┼──────────────┼──────────────┼──────────────┼───────────────┼───────────────┼────────────────■──────────────────────────────────────────┤7      ├─╫──╫──╫──╫──╫──╫──╫─┤M├──────\n",
       "      ├───┤       │              │              │              │              │               │               │                │                                          │       │ ║  ║  ║  ║  ║  ║  ║ └╥┘┌─┐   \n",
       " q_8: ┤ H ├───────┼──────────────┼──────────────┼──────────────┼──────────────┼───────────────┼───────────────┼────────────────┼────────────────■─────────────────────────┤8      ├─╫──╫──╫──╫──╫──╫──╫──╫─┤M├───\n",
       "      ├───┤       │              │              │              │              │               │               │                │                │                         │       │ ║  ║  ║  ║  ║  ║  ║  ║ └╥┘┌─┐\n",
       " q_9: ┤ H ├───────┼──────────────┼──────────────┼──────────────┼──────────────┼───────────────┼───────────────┼────────────────┼────────────────┼────────────────■────────┤9      ├─╫──╫──╫──╫──╫──╫──╫──╫──╫─┤M├\n",
       "      ├───┤┌──────┴──────┐┌──────┴──────┐┌──────┴──────┐┌──────┴──────┐┌──────┴───────┐┌──────┴───────┐┌──────┴───────┐┌───────┴───────┐┌───────┴───────┐┌───────┴───────┐└───────┘ ║  ║  ║  ║  ║  ║  ║  ║  ║ └╥┘\n",
       "q_10: ┤ X ├┤0            ├┤0            ├┤0            ├┤0            ├┤0             ├┤0             ├┤0             ├┤0              ├┤0              ├┤0              ├──────────╫──╫──╫──╫──╫──╫──╫──╫──╫──╫─\n",
       "      └───┘│             ││             ││             ││             ││              ││              ││              ││               ││               ││               │          ║  ║  ║  ║  ║  ║  ║  ║  ║  ║ \n",
       "q_11: ─────┤1            ├┤1            ├┤1            ├┤1            ├┤1             ├┤1             ├┤1             ├┤1              ├┤1              ├┤1              ├──────────╫──╫──╫──╫──╫──╫──╫──╫──╫──╫─\n",
       "           │  8^1 mod 15 ││  8^2 mod 15 ││  8^4 mod 15 ││  8^8 mod 15 ││  8^16 mod 15 ││  8^32 mod 15 ││  8^64 mod 15 ││  8^128 mod 15 ││  8^256 mod 15 ││  8^512 mod 15 │          ║  ║  ║  ║  ║  ║  ║  ║  ║  ║ \n",
       "q_12: ─────┤2            ├┤2            ├┤2            ├┤2            ├┤2             ├┤2             ├┤2             ├┤2              ├┤2              ├┤2              ├──────────╫──╫──╫──╫──╫──╫──╫──╫──╫──╫─\n",
       "           │             ││             ││             ││             ││              ││              ││              ││               ││               ││               │          ║  ║  ║  ║  ║  ║  ║  ║  ║  ║ \n",
       "q_13: ─────┤3            ├┤3            ├┤3            ├┤3            ├┤3             ├┤3             ├┤3             ├┤3              ├┤3              ├┤3              ├──────────╫──╫──╫──╫──╫──╫──╫──╫──╫──╫─\n",
       "           └─────────────┘└─────────────┘└─────────────┘└─────────────┘└──────────────┘└──────────────┘└──────────────┘└───────────────┘└───────────────┘└───────────────┘          ║  ║  ║  ║  ║  ║  ║  ║  ║  ║ \n",
       "c: 10/══════════════════════════════════════════════════════════════════════════════════════════════════════════════════════════════════════════════════════════════════════════════╩══╩══╩══╩══╩══╩══╩══╩══╩══╩═\n",
       "                                                                                                                                                                                    0  1  2  3  4  5  6  7  8  9 </pre>"
      ],
      "text/plain": [
       "      ┌───┐                                                                                                                                                               ┌───────┐┌─┐                           \n",
       " q_0: ┤ H ├───────■───────────────────────────────────────────────────────────────────────────────────────────────────────────────────────────────────────────────────────┤0      ├┤M├───────────────────────────\n",
       "      ├───┤       │                                                                                                                                                       │       │└╥┘┌─┐                        \n",
       " q_1: ┤ H ├───────┼──────────────■────────────────────────────────────────────────────────────────────────────────────────────────────────────────────────────────────────┤1      ├─╫─┤M├────────────────────────\n",
       "      ├───┤       │              │                                                                                                                                        │       │ ║ └╥┘┌─┐                     \n",
       " q_2: ┤ H ├───────┼──────────────┼──────────────■─────────────────────────────────────────────────────────────────────────────────────────────────────────────────────────┤2      ├─╫──╫─┤M├─────────────────────\n",
       "      ├───┤       │              │              │                                                                                                                         │       │ ║  ║ └╥┘┌─┐                  \n",
       " q_3: ┤ H ├───────┼──────────────┼──────────────┼──────────────■──────────────────────────────────────────────────────────────────────────────────────────────────────────┤3      ├─╫──╫──╫─┤M├──────────────────\n",
       "      ├───┤       │              │              │              │                                                                                                          │       │ ║  ║  ║ └╥┘┌─┐               \n",
       " q_4: ┤ H ├───────┼──────────────┼──────────────┼──────────────┼──────────────■───────────────────────────────────────────────────────────────────────────────────────────┤4      ├─╫──╫──╫──╫─┤M├───────────────\n",
       "      ├───┤       │              │              │              │              │                                                                                           │  QFT† │ ║  ║  ║  ║ └╥┘┌─┐            \n",
       " q_5: ┤ H ├───────┼──────────────┼──────────────┼──────────────┼──────────────┼───────────────■───────────────────────────────────────────────────────────────────────────┤5      ├─╫──╫──╫──╫──╫─┤M├────────────\n",
       "      ├───┤       │              │              │              │              │               │                                                                           │       │ ║  ║  ║  ║  ║ └╥┘┌─┐         \n",
       " q_6: ┤ H ├───────┼──────────────┼──────────────┼──────────────┼──────────────┼───────────────┼───────────────■───────────────────────────────────────────────────────────┤6      ├─╫──╫──╫──╫──╫──╫─┤M├─────────\n",
       "      ├───┤       │              │              │              │              │               │               │                                                           │       │ ║  ║  ║  ║  ║  ║ └╥┘┌─┐      \n",
       " q_7: ┤ H ├───────┼──────────────┼──────────────┼──────────────┼──────────────┼───────────────┼───────────────┼────────────────■──────────────────────────────────────────┤7      ├─╫──╫──╫──╫──╫──╫──╫─┤M├──────\n",
       "      ├───┤       │              │              │              │              │               │               │                │                                          │       │ ║  ║  ║  ║  ║  ║  ║ └╥┘┌─┐   \n",
       " q_8: ┤ H ├───────┼──────────────┼──────────────┼──────────────┼──────────────┼───────────────┼───────────────┼────────────────┼────────────────■─────────────────────────┤8      ├─╫──╫──╫──╫──╫──╫──╫──╫─┤M├───\n",
       "      ├───┤       │              │              │              │              │               │               │                │                │                         │       │ ║  ║  ║  ║  ║  ║  ║  ║ └╥┘┌─┐\n",
       " q_9: ┤ H ├───────┼──────────────┼──────────────┼──────────────┼──────────────┼───────────────┼───────────────┼────────────────┼────────────────┼────────────────■────────┤9      ├─╫──╫──╫──╫──╫──╫──╫──╫──╫─┤M├\n",
       "      ├───┤┌──────┴──────┐┌──────┴──────┐┌──────┴──────┐┌──────┴──────┐┌──────┴───────┐┌──────┴───────┐┌──────┴───────┐┌───────┴───────┐┌───────┴───────┐┌───────┴───────┐└───────┘ ║  ║  ║  ║  ║  ║  ║  ║  ║ └╥┘\n",
       "q_10: ┤ X ├┤0            ├┤0            ├┤0            ├┤0            ├┤0             ├┤0             ├┤0             ├┤0              ├┤0              ├┤0              ├──────────╫──╫──╫──╫──╫──╫──╫──╫──╫──╫─\n",
       "      └───┘│             ││             ││             ││             ││              ││              ││              ││               ││               ││               │          ║  ║  ║  ║  ║  ║  ║  ║  ║  ║ \n",
       "q_11: ─────┤1            ├┤1            ├┤1            ├┤1            ├┤1             ├┤1             ├┤1             ├┤1              ├┤1              ├┤1              ├──────────╫──╫──╫──╫──╫──╫──╫──╫──╫──╫─\n",
       "           │  8^1 mod 15 ││  8^2 mod 15 ││  8^4 mod 15 ││  8^8 mod 15 ││  8^16 mod 15 ││  8^32 mod 15 ││  8^64 mod 15 ││  8^128 mod 15 ││  8^256 mod 15 ││  8^512 mod 15 │          ║  ║  ║  ║  ║  ║  ║  ║  ║  ║ \n",
       "q_12: ─────┤2            ├┤2            ├┤2            ├┤2            ├┤2             ├┤2             ├┤2             ├┤2              ├┤2              ├┤2              ├──────────╫──╫──╫──╫──╫──╫──╫──╫──╫──╫─\n",
       "           │             ││             ││             ││             ││              ││              ││              ││               ││               ││               │          ║  ║  ║  ║  ║  ║  ║  ║  ║  ║ \n",
       "q_13: ─────┤3            ├┤3            ├┤3            ├┤3            ├┤3             ├┤3             ├┤3             ├┤3              ├┤3              ├┤3              ├──────────╫──╫──╫──╫──╫──╫──╫──╫──╫──╫─\n",
       "           └─────────────┘└─────────────┘└─────────────┘└─────────────┘└──────────────┘└──────────────┘└──────────────┘└───────────────┘└───────────────┘└───────────────┘          ║  ║  ║  ║  ║  ║  ║  ║  ║  ║ \n",
       "c: 10/══════════════════════════════════════════════════════════════════════════════════════════════════════════════════════════════════════════════════════════════════════════════╩══╩══╩══╩══╩══╩══╩══╩══╩══╩═\n",
       "                                                                                                                                                                                    0  1  2  3  4  5  6  7  8  9 "
      ]
     },
     "execution_count": 157,
     "metadata": {},
     "output_type": "execute_result"
    }
   ],
   "source": [
    "N_COUNT = 10\n",
    "a = 8\n",
    "\n",
    "# Create QuantumCircuit with N_COUNT counting qubits\n",
    "# plus 4 qubits for U to act on\n",
    "qc = QuantumCircuit(N_COUNT + 4, N_COUNT)\n",
    "\n",
    "# Initialize counting qubits\n",
    "# in state |+>\n",
    "for q in range(N_COUNT):\n",
    "    qc.h(q)\n",
    "\n",
    "# And auxiliary register in state |1>\n",
    "qc.x(N_COUNT)\n",
    "\n",
    "# Do controlled-U operations\n",
    "for q in range(N_COUNT):\n",
    "    qc.append(c_amod15(a, 2**q),\n",
    "             [q] + [i+N_COUNT for i in range(4)])\n",
    "\n",
    "# Do inverse-QFT\n",
    "qc.append(qft_dagger(N_COUNT), range(N_COUNT))\n",
    "\n",
    "# Measure circuit\n",
    "qc.measure(range(N_COUNT), range(N_COUNT))\n",
    "qc.draw(fold=-1)  # -1 means 'do not fold'"
   ]
  },
  {
   "cell_type": "code",
   "execution_count": 158,
   "metadata": {},
   "outputs": [
    {
     "data": {
      "image/png": "[encoded data removed]",
      "text/plain": [
       "<Figure size 640x480 with 1 Axes>"
      ]
     },
     "execution_count": 158,
     "metadata": {},
     "output_type": "execute_result"
    }
   ],
   "source": [
    "aer_sim = Aer.get_backend('aer_simulator')\n",
    "t_qc = transpile(qc, aer_sim)\n",
    "counts = aer_sim.run(t_qc).result().get_counts()\n",
    "plot_histogram(counts)"
   ]
  },
  {
   "cell_type": "code",
   "execution_count": 159,
   "metadata": {},
   "outputs": [
    {
     "name": "stdout",
     "output_type": "stream",
     "text": [
      "              Register Output            Phase\n",
      "0  0000000000(bin) =   0(dec)    0/1024 = 0.00\n",
      "1  0100000000(bin) = 256(dec)  256/1024 = 0.25\n",
      "2  1100000000(bin) = 768(dec)  768/1024 = 0.75\n",
      "3  1000000000(bin) = 512(dec)  512/1024 = 0.50\n"
     ]
    }
   ],
   "source": [
    "rows, measured_phases = [], []\n",
    "for output in counts:\n",
    "    decimal = int(output, 2)  # Convert (base 2) string to decimal\n",
    "    phase = decimal/(2**N_COUNT)  # Find corresponding eigenvalue\n",
    "    measured_phases.append(phase)\n",
    "    # Add these values to the rows in our table:\n",
    "    rows.append([f\"{output}(bin) = {decimal:>3}(dec)\",\n",
    "                 f\"{decimal}/{2**N_COUNT} = {phase:.2f}\"])\n",
    "# Print the rows in a table\n",
    "headers=[\"Register Output\", \"Phase\"]\n",
    "df = pd.DataFrame(rows, columns=headers)\n",
    "print(df)"
   ]
  },
  {
   "cell_type": "code",
   "execution_count": 160,
   "metadata": {},
   "outputs": [
    {
     "name": "stdout",
     "output_type": "stream",
     "text": [
      "   Phase Fraction  Guess for r\n",
      "0   0.00      0/1            1\n",
      "1   0.25      1/4            4\n",
      "2   0.75      3/4            4\n",
      "3   0.50      1/2            2\n"
     ]
    }
   ],
   "source": [
    "rows = []\n",
    "for phase in measured_phases:\n",
    "    frac = Fraction(phase).limit_denominator(N)\n",
    "    rows.append([phase,\n",
    "                 f\"{frac.numerator}/{frac.denominator}\",\n",
    "                 frac.denominator])\n",
    "# Print as a table\n",
    "headers=[\"Phase\", \"Fraction\", \"Guess for r\"]\n",
    "df = pd.DataFrame(rows, columns=headers)\n",
    "print(df)"
   ]
  },
  {
   "cell_type": "markdown",
   "metadata": {},
   "source": [
    "### Modular Exponenetiation"
   ]
  },
  {
   "cell_type": "code",
   "execution_count": 161,
   "metadata": {},
   "outputs": [],
   "source": [
    "def a2jmodN(a, j, N):\n",
    "    \"\"\"Compute a^{2^j} (mod N) by repeated squaring\"\"\"\n",
    "    for _ in range(j):\n",
    "        a = np.mod(a**2, N)\n",
    "    return a"
   ]
  },
  {
   "cell_type": "code",
   "execution_count": 162,
   "metadata": {},
   "outputs": [
    {
     "data": {
      "text/plain": [
       "47"
      ]
     },
     "execution_count": 162,
     "metadata": {},
     "output_type": "execute_result"
    }
   ],
   "source": [
    "a2jmodN(7, 2049, 53)\n"
   ]
  },
  {
   "cell_type": "markdown",
   "metadata": {},
   "source": [
    "#### Factoring From Period Finding"
   ]
  },
  {
   "cell_type": "code",
   "execution_count": 163,
   "metadata": {},
   "outputs": [
    {
     "name": "stdout",
     "output_type": "stream",
     "text": [
      "7\n"
     ]
    }
   ],
   "source": [
    "N = 15\n",
    "\n",
    "np.random.seed(1) # This is to make sure we get reproduceable results\n",
    "a = randint(2, 15)\n",
    "print(a)"
   ]
  },
  {
   "cell_type": "code",
   "execution_count": 164,
   "metadata": {},
   "outputs": [
    {
     "data": {
      "text/plain": [
       "1"
      ]
     },
     "execution_count": 164,
     "metadata": {},
     "output_type": "execute_result"
    }
   ],
   "source": [
    "gcd(a, N)\n"
   ]
  },
  {
   "cell_type": "code",
   "execution_count": 165,
   "metadata": {},
   "outputs": [],
   "source": [
    "def qpe_amod15(a):\n",
    "    \"\"\"Performs quantum phase estimation on the operation a*r mod 15.\n",
    "    Args:\n",
    "        a (int): This is 'a' in a*r mod 15\n",
    "    Returns:\n",
    "        float: Estimate of the phase\n",
    "    \"\"\"\n",
    "    N_COUNT = 8\n",
    "    qc = QuantumCircuit(4+N_COUNT, N_COUNT)\n",
    "    for q in range(N_COUNT):\n",
    "        qc.h(q)     # Initialize counting qubits in state |+>\n",
    "    qc.x(N_COUNT) # And auxiliary register in state |1>\n",
    "    for q in range(N_COUNT): # Do controlled-U operations\n",
    "        qc.append(c_amod15(a, 2**q),\n",
    "                 [q] + [i+N_COUNT for i in range(4)])\n",
    "    qc.append(qft_dagger(N_COUNT), range(N_COUNT)) # Do inverse-QFT\n",
    "    qc.measure(range(N_COUNT), range(N_COUNT))\n",
    "    # Simulate Results\n",
    "    aer_sim = Aer.get_backend('aer_simulator')\n",
    "    # `memory=True` tells the backend to save each measurement in a list\n",
    "    job = aer_sim.run(transpile(qc, aer_sim), shots=1, memory=True)\n",
    "    readings = job.result().get_memory()\n",
    "    print(\"Register Reading: \" + readings[0])\n",
    "    phase = int(readings[0],2)/(2**N_COUNT)\n",
    "    print(f\"Corresponding Phase: {phase}\")\n",
    "    return phase"
   ]
  },
  {
   "cell_type": "code",
   "execution_count": 166,
   "metadata": {},
   "outputs": [
    {
     "name": "stdout",
     "output_type": "stream",
     "text": [
      "Register Reading: 10000000\n",
      "Corresponding Phase: 0.5\n"
     ]
    },
    {
     "data": {
      "text/plain": [
       "Fraction(1, 2)"
      ]
     },
     "execution_count": 166,
     "metadata": {},
     "output_type": "execute_result"
    }
   ],
   "source": [
    "phase = qpe_amod15(a) # Phase = s/r\n",
    "Fraction(phase).limit_denominator(15)"
   ]
  },
  {
   "cell_type": "code",
   "execution_count": 167,
   "metadata": {},
   "outputs": [
    {
     "name": "stdout",
     "output_type": "stream",
     "text": [
      "2\n"
     ]
    }
   ],
   "source": [
    "frac = Fraction(phase).limit_denominator(15)\n",
    "s, r = frac.numerator, frac.denominator\n",
    "print(r)"
   ]
  },
  {
   "cell_type": "code",
   "execution_count": 168,
   "metadata": {},
   "outputs": [
    {
     "name": "stdout",
     "output_type": "stream",
     "text": [
      "[3, 1]\n"
     ]
    }
   ],
   "source": [
    "guesses = [gcd(a**(r//2)-1, N), gcd(a**(r//2)+1, N)]\n",
    "print(guesses)"
   ]
  },
  {
   "cell_type": "code",
   "execution_count": 169,
   "metadata": {},
   "outputs": [
    {
     "name": "stdout",
     "output_type": "stream",
     "text": [
      "\n",
      "ATTEMPT 1:\n",
      "Register Reading: 00000000\n",
      "Corresponding Phase: 0.0\n",
      "Result: r = 1\n",
      "\n",
      "ATTEMPT 2:\n",
      "Register Reading: 00000000\n",
      "Corresponding Phase: 0.0\n",
      "Result: r = 1\n",
      "\n",
      "ATTEMPT 3:\n",
      "Register Reading: 10000000\n",
      "Corresponding Phase: 0.5\n",
      "Result: r = 2\n",
      "Guessed Factors: 3 and 1\n",
      "*** Non-trivial factor found: 3 ***\n"
     ]
    }
   ],
   "source": [
    "a = 7\n",
    "FACTOR_FOUND = False\n",
    "ATTEMPT = 0\n",
    "while not FACTOR_FOUND:\n",
    "    ATTEMPT += 1\n",
    "    print(f\"\\nATTEMPT {ATTEMPT}:\")\n",
    "    phase = qpe_amod15(a) # Phase = s/r\n",
    "    frac = Fraction(phase).limit_denominator(15)\n",
    "    r = frac.denominator\n",
    "    print(f\"Result: r = {r}\")\n",
    "    if phase != 0:\n",
    "        # Guesses for factors are gcd(x^{r/2} ±1 , 15)\n",
    "        guesses = [gcd(a**(r//2)-1, N), gcd(a**(r//2)+1, N)]\n",
    "        print(f\"Guessed Factors: {guesses[0]} and {guesses[1]}\")\n",
    "        for guess in guesses:\n",
    "            if guess not in [1,N] and (N % guess) == 0:\n",
    "                # Guess is a factor!\n",
    "                print(f\"*** Non-trivial factor found: {guess} ***\")\n",
    "                FACTOR_FOUND = True"
   ]
  },
  {
   "cell_type": "code",
   "execution_count": 170,
   "metadata": {},
   "outputs": [],
   "source": [
    "assert (3 in guesses) or (5 in guesses)"
   ]
  },
  {
   "cell_type": "markdown",
   "metadata": {},
   "source": [
    "### Running circuit on IBM"
   ]
  },
  {
   "cell_type": "code",
   "execution_count": 171,
   "metadata": {},
   "outputs": [
    {
     "name": "stdout",
     "output_type": "stream",
     "text": [
      "ibm_brisbane 127\n",
      "ibm_kyiv 127\n",
      "ibm_sherbrooke 127\n"
     ]
    }
   ],
   "source": [
    "backends = service.backends()\n",
    "for b in backends:\n",
    "    print(b.name, b.configuration().n_qubits)\n"
   ]
  },
  {
   "cell_type": "code",
   "execution_count": 178,
   "metadata": {},
   "outputs": [
    {
     "name": "stderr",
     "output_type": "stream",
     "text": [
      "C:\\Users\\ASUS\\AppData\\Local\\Temp\\ipykernel_6816\\2404220583.py:5: DeprecationWarning: The get_backend() method is deprecated as of qiskit-ibm-runtime 0.24 and will be removed no sooner than 3 months after the release date. Please use backend() instead.\n",
      "  backend = service.get_backend('ibm_kyiv')\n"
     ]
    },
    {
     "name": "stdout",
     "output_type": "stream",
     "text": [
      "<IBMBackend('ibm_kyiv')>\n",
      "Circuit transpiled successfully.\n"
     ]
    },
    {
     "name": "stderr",
     "output_type": "stream",
     "text": [
      "C:\\Users\\ASUS\\AppData\\Local\\Temp\\ipykernel_6816\\2404220583.py:13: DeprecationWarning: backend.run() and related sessions methods are deprecated  as of qiskit-ibm-runtime 0.23 and will be removed no sooner than 6 months after the release date. More details can be found in the primitives migration guide https://docs.quantum.ibm.com/migration-guides/qiskit-runtime.\n",
      "  job = backend.run(compiled, shots=1024)\n"
     ]
    },
    {
     "name": "stdout",
     "output_type": "stream",
     "text": [
      "Job submitted successfully. Job ID: cxqqaa1082700083y0bg\n",
      "Job completed successfully.\n",
      "Measurement result: {'1001111111': 1, '1001110101': 1, '0100110001': 1, '1000011001': 1, '1001000000': 2, '1101111111': 5, '1110101100': 1, '0001000001': 1, '0100101011': 2, '0100000001': 1, '0011001010': 1, '0111110010': 1, '0010011110': 1, '1111110011': 1, '0001110111': 1, '0000111000': 1, '0100000010': 1, '0011111111': 1, '1101100100': 1, '0010111101': 3, '1111100110': 1, '0010111100': 2, '1010110011': 1, '0101010110': 4, '1101011100': 4, '1111110001': 1, '0101110100': 1, '1111001100': 3, '1010100101': 2, '0011000111': 1, '1001110100': 5, '0000011001': 1, '0011111110': 4, '0000011101': 1, '0001100011': 2, '0111010001': 3, '1111010100': 2, '1111001001': 1, '0011100111': 2, '1100010100': 1, '0001110100': 2, '0101101101': 2, '1010101111': 2, '0001101100': 1, '0011000011': 3, '1100100110': 1, '0111001101': 3, '0101011111': 1, '0111111000': 2, '0110001010': 1, '0011101101': 2, '1100101100': 1, '1000101100': 2, '1111100010': 1, '1011011101': 1, '1001001100': 2, '1100000000': 1, '1111100001': 1, '1001000010': 2, '1111111010': 1, '1100001000': 1, '0001100110': 1, '0000001101': 1, '1101000100': 2, '0101100111': 2, '0011010111': 4, '1000111101': 2, '0110000111': 2, '0001010100': 3, '0110101100': 1, '0010101011': 1, '1000111010': 3, '0111001001': 1, '0110111110': 2, '1111111011': 1, '1011011010': 1, '0000100101': 2, '0100010000': 1, '0011100101': 2, '1010011011': 1, '0001100010': 1, '1011011011': 1, '0111010000': 1, '1000100011': 1, '1000000001': 1, '1100100111': 1, '0000010011': 3, '1001010110': 1, '0111100111': 1, '0111011111': 1, '0100001100': 3, '0111110100': 1, '1010100110': 3, '1101001111': 1, '0110001110': 1, '0000011000': 1, '0011100110': 4, '1000111110': 3, '0101111011': 1, '0001100001': 2, '0101110001': 2, '1110010110': 2, '1111001101': 1, '0111010010': 2, '1001100010': 1, '0101001000': 2, '1001111101': 2, '0111110101': 2, '0100000101': 1, '0110000001': 2, '1110111110': 3, '0100100000': 1, '0110101010': 1, '1010011110': 1, '0111111100': 1, '1001100110': 3, '1110010001': 1, '1000000000': 1, '0100110011': 2, '1011010100': 2, '0111010101': 2, '1100101110': 1, '0001001101': 2, '1111110010': 2, '0000011011': 1, '0000001011': 1, '0010100101': 1, '1110010100': 2, '1011100101': 1, '0001101111': 2, '0011111100': 1, '1101101110': 1, '0011110001': 1, '1100100011': 1, '0011111000': 1, '1111101000': 2, '0010011111': 1, '0110110100': 2, '0111110110': 1, '0111011110': 1, '0000111100': 3, '0000010111': 1, '0110101111': 1, '1101100110': 1, '0110011110': 1, '1010111110': 3, '1011010000': 2, '1010010110': 3, '1110001110': 1, '1110010111': 1, '0000110010': 1, '0010010110': 1, '1110101011': 1, '0110011101': 1, '1111011010': 1, '0001000100': 2, '1010001101': 2, '0001111001': 2, '1111111001': 1, '1100111111': 1, '1000101110': 2, '0010101111': 2, '0111011100': 3, '1110001000': 1, '0010101110': 2, '1100011011': 1, '1000101001': 2, '0100001001': 1, '0000010000': 1, '1111101110': 1, '0110011100': 1, '0101000001': 1, '0110110000': 2, '1111000101': 1, '1111111111': 1, '1100101010': 1, '1010001111': 2, '0000101110': 3, '1010000101': 1, '1010110100': 5, '0000101111': 1, '0010101100': 4, '0111100101': 2, '0010000100': 2, '1011000110': 2, '1000000011': 3, '1011010110': 2, '1101010110': 1, '0110011000': 1, '1101001101': 1, '0001111101': 1, '0001111111': 2, '1001110000': 3, '1100011110': 3, '1001100101': 3, '1100001111': 2, '1001000101': 1, '0111010100': 3, '1001111100': 1, '0100001111': 1, '0100100010': 2, '0101011100': 1, '0000110110': 2, '1011111111': 2, '0000000010': 1, '1010001000': 1, '0100010111': 1, '1100111001': 4, '0011010000': 1, '1011110011': 1, '1100101000': 2, '0111000100': 2, '1111010001': 1, '1001101000': 2, '0110100110': 2, '0001000101': 1, '1111010101': 1, '1000010110': 3, '1100100101': 1, '1000010100': 3, '0000000111': 1, '1010011101': 2, '1100010101': 2, '1000011011': 1, '1100010111': 3, '0100100011': 3, '1000011100': 2, '1011001100': 1, '1100001110': 2, '0000101000': 1, '1101011111': 1, '1001111001': 1, '1101011101': 1, '1011100110': 1, '0001010011': 1, '1111010110': 2, '1010100001': 1, '1111110111': 1, '0111011001': 1, '0001010111': 1, '0110110110': 2, '0000101100': 1, '0000000101': 1, '1001010010': 1, '1100100100': 1, '1111101010': 1, '1010010010': 1, '0100011100': 2, '0001110010': 1, '0100101110': 2, '1100110101': 1, '0000100110': 2, '1101100000': 2, '0010100011': 1, '1111010011': 1, '1100000110': 1, '1100011101': 2, '1101111001': 1, '0000111111': 2, '0011001000': 1, '1110001011': 1, '0101010001': 1, '0100011101': 2, '0010001010': 3, '0010111111': 1, '1110011000': 1, '0000010010': 2, '0010000010': 3, '1011001111': 2, '1001101100': 3, '0010011011': 1, '1011011111': 1, '0010011001': 2, '0000110100': 3, '1001011110': 1, '1110110011': 4, '1011010111': 1, '0000001110': 3, '0000011100': 2, '1110100111': 1, '1001011100': 2, '1100010010': 1, '1010010000': 1, '1101010101': 2, '1101110001': 1, '0100100110': 1, '0010100100': 2, '1111101111': 4, '1000010101': 2, '1110110100': 2, '1110111011': 1, '0100111001': 2, '0110011111': 2, '1001111110': 3, '0111011101': 1, '0010000101': 2, '0100111101': 1, '1001110010': 1, '0001000011': 1, '1011101011': 2, '0010100000': 1, '0001011010': 1, '0100001011': 2, '1101010000': 1, '1110100110': 3, '0001111100': 1, '1010111111': 2, '1000011101': 2, '1110001101': 3, '1000001000': 1, '1011101101': 2, '1011110111': 1, '0110011011': 1, '0110101011': 1, '1011111001': 1, '0010010011': 1, '1110001100': 2, '0111100011': 1, '0110100100': 1, '1101101011': 2, '0110101001': 1, '1000000100': 1, '1011101110': 3, '1011101001': 2, '1110110110': 3, '0001110101': 3, '0110100101': 4, '0010101000': 2, '0100110110': 3, '0111100010': 2, '0100111111': 3, '0101101110': 1, '0011000100': 2, '0110110111': 1, '0101000100': 2, '0101011001': 3, '0000110111': 2, '0001000000': 1, '1100000100': 1, '0010000111': 2, '1101011001': 1, '0010111001': 1, '0100101000': 2, '1111111110': 1, '1100110100': 1, '0111010111': 1, '1011110100': 1, '0101111100': 2, '0111100100': 1, '1111011000': 2, '0001110110': 3, '1000111100': 2, '0111101100': 1, '1101101000': 2, '0111111110': 1, '0010010010': 2, '1000110100': 1, '0000001100': 1, '1001011000': 1, '1100101111': 2, '0110111010': 1, '0000000000': 1, '1000111000': 1, '1101100101': 2, '0011111001': 1, '1101101101': 2, '1011000101': 3, '1000100001': 1, '1110011010': 1, '0010111110': 3, '0011001100': 2, '1010110101': 1, '0010000001': 1, '0100110111': 2, '1100011100': 2, '0100110100': 1, '0110101101': 2, '1011011100': 1, '1101111011': 1, '0011110101': 2, '1110101111': 3, '0000000001': 1, '1111100101': 1, '0010001100': 3, '1000111111': 2, '1011100100': 1, '0101101000': 1, '0101010100': 2, '1001110110': 1, '0101111001': 3, '0010100010': 1, '1110011101': 2, '1000001101': 2, '1110010010': 1, '1110000111': 2, '0011000000': 1, '1000000110': 3, '1110111101': 5, '1010110110': 2, '1110110001': 1, '0101111111': 1, '0101111110': 1, '1010010100': 2, '1000001001': 1, '0011010110': 1, '0110001101': 1, '1011110000': 1, '0011001111': 2, '1000101101': 2, '0110101110': 1, '0010110110': 1, '0100001000': 1, '1100010000': 1, '1001110011': 2, '0010010000': 1, '1010001100': 1, '0110010111': 2, '1101010111': 3, '1100011001': 1, '0011101110': 1, '1000001110': 2, '1101110101': 1, '1111001010': 1, '0100101010': 1, '1110101001': 1, '1101110110': 1, '1101111010': 1, '1110000000': 2, '0100010100': 4, '0010100111': 1, '1100111000': 2, '1100100010': 1, '0001001011': 1, '0001100101': 1, '1111010000': 2, '1001000111': 2, '0000111001': 2, '1000100110': 2, '1001001111': 1, '1101010100': 1, '0010011101': 1, '0101000101': 3, '0100011110': 1, '0011011100': 1, '1000110110': 2, '1010001110': 1, '1110011110': 2, '1000010000': 1, '0011110110': 2, '0001011000': 2, '1000001010': 1, '1110111000': 1, '0110100010': 1, '1111111100': 3, '0111101010': 1, '0110010101': 1, '0001101011': 2, '0010010101': 1, '0111111101': 3, '1110111100': 1, '1110110111': 4, '1100001010': 1, '1111001110': 1, '1011010010': 1, '0111000000': 1, '0001111110': 3, '0001011111': 1, '1000010010': 2, '0100010110': 3, '1010000111': 2, '0010101101': 1, '0000010110': 1, '0100011011': 1, '1100010001': 3, '1101110100': 1, '0011111101': 5, '1101000101': 1, '1010111101': 3, '1011110110': 4, '0101010010': 1, '0111110111': 1, '1011000111': 1, '1001010000': 2, '0100000011': 2, '1000011111': 2, '1010100100': 2, '1111000100': 2, '0111101101': 1, '0000000110': 5, '1110110010': 1, '0100111011': 1, '1100010110': 2, '1010000110': 2, '0001101110': 4, '0110010100': 3, '0110111100': 1, '0100001110': 2, '0110001000': 1, '0111001110': 1, '0110010001': 2, '1111111000': 3, '1010000001': 1, '0100101101': 2, '0110100001': 1, '1101000111': 1, '0000101010': 3, '0010001101': 1, '1101111100': 2, '1000110001': 3, '1111101101': 2, '1000110101': 2, '0001010001': 1, '0010101010': 1, '1101101100': 1, '0110110011': 1, '0100000111': 4, '1011101111': 1, '1011001101': 1, '0110110101': 1, '1001101001': 3, '1110111001': 1, '1000000010': 1, '1010001010': 1, '0100011010': 1, '0000110000': 2, '1011010001': 1, '1011100111': 2, '0100011111': 1, '1001001001': 1, '1000100000': 2, '1101010011': 1, '1101001100': 1, '1010011100': 1, '0100100101': 1, '1001001010': 1, '0110000101': 1, '0011110010': 1, '1001111000': 1, '1010000100': 1, '1100100001': 1, '1001011111': 1, '0101010101': 2, '0101010111': 1, '1101101111': 1, '1000011110': 4, '1010101010': 1, '0010010001': 1, '1110100011': 1, '1100011010': 1, '0110001011': 1, '0110000110': 2, '0111100110': 1, '1001001000': 2, '0100011001': 2, '1111110101': 2, '1100110110': 3, '1111110110': 2, '0000100000': 2, '0010001110': 1, '1011000001': 1, '1101011010': 2, '0011101000': 1, '0101010000': 1, '1000011000': 1, '0101100100': 3, '0011101001': 2, '1010111001': 2, '1111100100': 1, '0010100110': 1, '1011111100': 3, '1100110001': 1, '0011010101': 2, '1011011001': 1, '0001111010': 2, '1001100111': 1, '0000010100': 1, '0000111110': 3, '0100001101': 3, '1100000001': 2, '1001101101': 1, '1000100100': 1, '1110000101': 1, '0010110100': 1, '0010011000': 4, '1100011000': 2, '1100111010': 1, '1101011000': 1, '0001100100': 1, '1101111101': 2, '1010100111': 1, '0110111111': 4, '0011100100': 1, '1100111110': 2, '1000000111': 1, '0010100001': 2, '1010010101': 3, '0110010000': 2, '0011101111': 2, '0011010011': 1, '0100101100': 1, '0101110011': 2, '0100110010': 1, '0000100010': 2, '1111110000': 1, '0100000100': 2, '0101100110': 1, '0010110010': 1, '0010110111': 4, '0011001101': 3, '1111101100': 2, '1111011011': 1, '1001001101': 1, '0000111011': 1, '1000001111': 1, '0001011110': 3, '0100101111': 1, '1000000101': 3, '0000001000': 1, '1001111010': 1, '0100110000': 2, '0101000111': 1, '0011000110': 2}\n"
     ]
    }
   ],
   "source": [
    "from qiskit import QuantumCircuit, transpile\n",
    "\n",
    "\n",
    "# Choose an appropriate backend (real device)\n",
    "backend = service.get_backend('ibm_kyiv')\n",
    "print(backend)\n",
    "\n",
    "# Transpile the circuit for the selected backend\n",
    "compiled = transpile(qc, backend)\n",
    "print(\"Circuit transpiled successfully.\")\n",
    "\n",
    "# Run the circuit on the backend\n",
    "job = backend.run(compiled, shots=1024)\n",
    "print(\"Job submitted successfully. Job ID:\", job.job_id())\n",
    "\n",
    "# Wait for the result\n",
    "result = job.result()\n",
    "print(\"Job completed successfully.\")\n",
    "\n",
    "# Retrieve and display the measurement counts\n",
    "counts = result.get_counts()\n",
    "print(\"Measurement result:\", counts)\n"
   ]
  },
  {
   "cell_type": "code",
   "execution_count": 204,
   "metadata": {},
   "outputs": [],
   "source": [
    "counts = {'1001111111': 1, '1001110101': 1, '0100110001': 1, '1000011001': 1, '1001000000': 2, '1101111111': 5, '1110101100': 1, '0001000001': 1, '0100101011': 2, '0100000001': 1, '0011001010': 1, '0111110010': 1, '0010011110': 1, '1111110011': 1, '0001110111': 1, '0000111000': 1, '0100000010': 1, '0011111111': 1, '1101100100': 1, '0010111101': 3, '1111100110': 1, '0010111100': 2, '1010110011': 1, '0101010110': 4, '1101011100': 4, '1111110001': 1, '0101110100': 1, '1111001100': 3, '1010100101': 2, '0011000111': 1, '1001110100': 5, '0000011001': 1, '0011111110': 4, '0000011101': 1, '0001100011': 2, '0111010001': 3, '1111010100': 2, '1111001001': 1, '0011100111': 2, '1100010100': 1, '0001110100': 2, '0101101101': 2, '1010101111': 2, '0001101100': 1, '0011000011': 3, '1100100110': 1, '0111001101': 3, '0101011111': 1, '0111111000': 2, '0110001010': 1, '0011101101': 2, '1100101100': 1, '1000101100': 2, '1111100010': 1, '1011011101': 1, '1001001100': 2, '1100000000': 1, '1111100001': 1, '1001000010': 2, '1111111010': 1, '1100001000': 1, '0001100110': 1, '0000001101': 1, '1101000100': 2, '0101100111': 2, '0011010111': 4, '1000111101': 2, '0110000111': 2, '0001010100': 3, '0110101100': 1, '0010101011': 1, '1000111010': 3, '0111001001': 1, '0110111110': 2, '1111111011': 1, '1011011010': 1, '0000100101': 2, '0100010000': 1, '0011100101': 2, '1010011011': 1, '0001100010': 1, '1011011011': 1, '0111010000': 1, '1000100011': 1, '1000000001': 1, '1100100111': 1, '0000010011': 3, '1001010110': 1, '0111100111': 1, '0111011111': 1, '0100001100': 3, '0111110100': 1, '1010100110': 3, '1101001111': 1, '0110001110': 1, '0000011000': 1, '0011100110': 4, '1000111110': 3, '0101111011': 1, '0001100001': 2, '0101110001': 2, '1110010110': 2, '1111001101': 1, '0111010010': 2, '1001100010': 1, '0101001000': 2, '1001111101': 2, '0111110101': 2, '0100000101': 1, '0110000001': 2, '1110111110': 3, '0100100000': 1, '0110101010': 1, '1010011110': 1, '0111111100': 1, '1001100110': 3, '1110010001': 1, '1000000000': 1, '0100110011': 2, '1011010100': 2, '0111010101': 2, '1100101110': 1, '0001001101': 2, '1111110010': 2, '0000011011': 1, '0000001011': 1, '0010100101': 1, '1110010100': 2, '1011100101': 1, '0001101111': 2, '0011111100': 1, '1101101110': 1, '0011110001': 1, '1100100011': 1, '0011111000': 1, '1111101000': 2, '0010011111': 1, '0110110100': 2, '0111110110': 1, '0111011110': 1, '0000111100': 3, '0000010111': 1, '0110101111': 1, '1101100110': 1, '0110011110': 1, '1010111110': 3, '1011010000': 2, '1010010110': 3, '1110001110': 1, '1110010111': 1, '0000110010': 1, '0010010110': 1, '1110101011': 1, '0110011101': 1, '1111011010': 1, '0001000100': 2, '1010001101': 2, '0001111001': 2, '1111111001': 1, '1100111111': 1, '1000101110': 2, '0010101111': 2, '0111011100': 3, '1110001000': 1, '0010101110': 2, '1100011011': 1, '1000101001': 2, '0100001001': 1, '0000010000': 1, '1111101110': 1, '0110011100': 1, '0101000001': 1, '0110110000': 2, '1111000101': 1, '1111111111': 1, '1100101010': 1, '1010001111': 2, '0000101110': 3, '1010000101': 1, '1010110100': 5, '0000101111': 1, '0010101100': 4, '0111100101': 2, '0010000100': 2, '1011000110': 2, '1000000011': 3, '1011010110': 2, '1101010110': 1, '0110011000': 1, '1101001101': 1, '0001111101': 1, '0001111111': 2, '1001110000': 3, '1100011110': 3, '1001100101': 3, '1100001111': 2, '1001000101': 1, '0111010100': 3, '1001111100': 1, '0100001111': 1, '0100100010': 2, '0101011100': 1, '0000110110': 2, '1011111111': 2, '0000000010': 1, '1010001000': 1, '0100010111': 1, '1100111001': 4, '0011010000': 1, '1011110011': 1, '1100101000': 2, '0111000100': 2, '1111010001': 1, '1001101000': 2, '0110100110': 2, '0001000101': 1, '1111010101': 1, '1000010110': 3, '1100100101': 1, '1000010100': 3, '0000000111': 1, '1010011101': 2, '1100010101': 2, '1000011011': 1, '1100010111': 3, '0100100011': 3, '1000011100': 2, '1011001100': 1, '1100001110': 2, '0000101000': 1, '1101011111': 1, '1001111001': 1, '1101011101': 1, '1011100110': 1, '0001010011': 1, '1111010110': 2, '1010100001': 1, '1111110111': 1, '0111011001': 1, '0001010111': 1, '0110110110': 2, '0000101100': 1, '0000000101': 1, '1001010010': 1, '1100100100': 1, '1111101010': 1, '1010010010': 1, '0100011100': 2, '0001110010': 1, '0100101110': 2, '1100110101': 1, '0000100110': 2, '1101100000': 2, '0010100011': 1, '1111010011': 1, '1100000110': 1, '1100011101': 2, '1101111001': 1, '0000111111': 2, '0011001000': 1, '1110001011': 1, '0101010001': 1, '0100011101': 2, '0010001010': 3, '0010111111': 1, '1110011000': 1, '0000010010': 2, '0010000010': 3, '1011001111': 2, '1001101100': 3, '0010011011': 1, '1011011111': 1, '0010011001': 2, '0000110100': 3, '1001011110': 1, '1110110011': 4, '1011010111': 1, '0000001110': 3, '0000011100': 2, '1110100111': 1, '1001011100': 2, '1100010010': 1, '1010010000': 1, '1101010101': 2, '1101110001': 1, '0100100110': 1, '0010100100': 2, '1111101111': 4, '1000010101': 2, '1110110100': 2, '1110111011': 1, '0100111001': 2, '0110011111': 2, '1001111110': 3, '0111011101': 1, '0010000101': 2, '0100111101': 1, '1001110010': 1, '0001000011': 1, '1011101011': 2, '0010100000': 1, '0001011010': 1, '0100001011': 2, '1101010000': 1, '1110100110': 3, '0001111100': 1, '1010111111': 2, '1000011101': 2, '1110001101': 3, '1000001000': 1, '1011101101': 2, '1011110111': 1, '0110011011': 1, '0110101011': 1, '1011111001': 1, '0010010011': 1, '1110001100': 2, '0111100011': 1, '0110100100': 1, '1101101011': 2, '0110101001': 1, '1000000100': 1, '1011101110': 3, '1011101001': 2, '1110110110': 3, '0001110101': 3, '0110100101': 4, '0010101000': 2, '0100110110': 3, '0111100010': 2, '0100111111': 3, '0101101110': 1, '0011000100': 2, '0110110111': 1, '0101000100': 2, '0101011001': 3, '0000110111': 2, '0001000000': 1, '1100000100': 1, '0010000111': 2, '1101011001': 1, '0010111001': 1, '0100101000': 2, '1111111110': 1, '1100110100': 1, '0111010111': 1, '1011110100': 1, '0101111100': 2, '0111100100': 1, '1111011000': 2, '0001110110': 3, '1000111100': 2, '0111101100': 1, '1101101000': 2, '0111111110': 1, '0010010010': 2, '1000110100': 1, '0000001100': 1, '1001011000': 1, '1100101111': 2, '0110111010': 1, '0000000000': 1, '1000111000': 1, '1101100101': 2, '0011111001': 1, '1101101101': 2, '1011000101': 3, '1000100001': 1, '1110011010': 1, '0010111110': 3, '0011001100': 2, '1010110101': 1, '0010000001': 1, '0100110111': 2, '1100011100': 2, '0100110100': 1, '0110101101': 2, '1011011100': 1, '1101111011': 1, '0011110101': 2, '1110101111': 3, '0000000001': 1, '1111100101': 1, '0010001100': 3, '1000111111': 2, '1011100100': 1, '0101101000': 1, '0101010100': 2, '1001110110': 1, '0101111001': 3, '0010100010': 1, '1110011101': 2, '1000001101': 2, '1110010010': 1, '1110000111': 2, '0011000000': 1, '1000000110': 3, '1110111101': 5, '1010110110': 2, '1110110001': 1, '0101111111': 1, '0101111110': 1, '1010010100': 2, '1000001001': 1, '0011010110': 1, '0110001101': 1, '1011110000': 1, '0011001111': 2, '1000101101': 2, '0110101110': 1, '0010110110': 1, '0100001000': 1, '1100010000': 1, '1001110011': 2, '0010010000': 1, '1010001100': 1, '0110010111': 2, '1101010111': 3, '1100011001': 1, '0011101110': 1, '1000001110': 2, '1101110101': 1, '1111001010': 1, '0100101010': 1, '1110101001': 1, '1101110110': 1, '1101111010': 1, '1110000000': 2, '0100010100': 4, '0010100111': 1, '1100111000': 2, '1100100010': 1, '0001001011': 1, '0001100101': 1, '1111010000': 2, '1001000111': 2, '0000111001': 2, '1000100110': 2, '1001001111': 1, '1101010100': 1, '0010011101': 1, '0101000101': 3, '0100011110': 1, '0011011100': 1, '1000110110': 2, '1010001110': 1, '1110011110': 2, '1000010000': 1, '0011110110': 2, '0001011000': 2, '1000001010': 1, '1110111000': 1, '0110100010': 1, '1111111100': 3, '0111101010': 1, '0110010101': 1, '0001101011': 2, '0010010101': 1, '0111111101': 3, '1110111100': 1, '1110110111': 4, '1100001010': 1, '1111001110': 1, '1011010010': 1, '0111000000': 1, '0001111110': 3, '0001011111': 1, '1000010010': 2, '0100010110': 3, '1010000111': 2, '0010101101': 1, '0000010110': 1, '0100011011': 1, '1100010001': 3, '1101110100': 1, '0011111101': 5, '1101000101': 1, '1010111101': 3, '1011110110': 4, '0101010010': 1, '0111110111': 1, '1011000111': 1, '1001010000': 2, '0100000011': 2, '1000011111': 2, '1010100100': 2, '1111000100': 2, '0111101101': 1, '0000000110': 5, '1110110010': 1, '0100111011': 1, '1100010110': 2, '1010000110': 2, '0001101110': 4, '0110010100': 3, '0110111100': 1, '0100001110': 2, '0110001000': 1, '0111001110': 1, '0110010001': 2, '1111111000': 3, '1010000001': 1, '0100101101': 2, '0110100001': 1, '1101000111': 1, '0000101010': 3, '0010001101': 1, '1101111100': 2, '1000110001': 3, '1111101101': 2, '1000110101': 2, '0001010001': 1, '0010101010': 1, '1101101100': 1, '0110110011': 1, '0100000111': 4, '1011101111': 1, '1011001101': 1, '0110110101': 1, '1001101001': 3, '1110111001': 1, '1000000010': 1, '1010001010': 1, '0100011010': 1, '0000110000': 2, '1011010001': 1, '1011100111': 2, '0100011111': 1, '1001001001': 1, '1000100000': 2, '1101010011': 1, '1101001100': 1, '1010011100': 1, '0100100101': 1, '1001001010': 1, '0110000101': 1, '0011110010': 1, '1001111000': 1, '1010000100': 1, '1100100001': 1, '1001011111': 1, '0101010101': 2, '0101010111': 1, '1101101111': 1, '1000011110': 4, '1010101010': 1, '0010010001': 1, '1110100011': 1, '1100011010': 1, '0110001011': 1, '0110000110': 2, '0111100110': 1, '1001001000': 2, '0100011001': 2, '1111110101': 2, '1100110110': 3, '1111110110': 2, '0000100000': 2, '0010001110': 1, '1011000001': 1, '1101011010': 2, '0011101000': 1, '0101010000': 1, '1000011000': 1, '0101100100': 3, '0011101001': 2, '1010111001': 2, '1111100100': 1, '0010100110': 1, '1011111100': 3, '1100110001': 1, '0011010101': 2, '1011011001': 1, '0001111010': 2, '1001100111': 1, '0000010100': 1, '0000111110': 3, '0100001101': 3, '1100000001': 2, '1001101101': 1, '1000100100': 1, '1110000101': 1, '0010110100': 1, '0010011000': 4, '1100011000': 2, '1100111010': 1, '1101011000': 1, '0001100100': 1, '1101111101': 2, '1010100111': 1, '0110111111': 4, '0011100100': 1, '1100111110': 2, '1000000111': 1, '0010100001': 2, '1010010101': 3, '0110010000': 2, '0011101111': 2, '0011010011': 1, '0100101100': 1, '0101110011': 2, '0100110010': 1, '0000100010': 2, '1111110000': 1, '0100000100': 2, '0101100110': 1, '0010110010': 1, '0010110111': 4, '0011001101': 3, '1111101100': 2, '1111011011': 1, '1001001101': 1, '0000111011': 1, '1000001111': 1, '0001011110': 3, '0100101111': 1, '1000000101': 3, '0000001000': 1, '1001111010': 1, '0100110000': 2, '0101000111': 1, '0011000110': 2}\n"
   ]
  },
  {
   "cell_type": "code",
   "execution_count": 213,
   "metadata": {},
   "outputs": [
    {
     "name": "stdout",
     "output_type": "stream",
     "text": [
      "Measurement Results (sorted by frequency):\n",
      "\n",
      "1001100010: 2\n",
      "0111100001: 2\n",
      "1110000111: 2\n",
      "0000110010: 2\n",
      "0110000011: 2\n",
      "1110110100: 2\n",
      "0111110111: 2\n",
      "0100010110: 1\n",
      "1011101001: 1\n",
      "1101011111: 1\n",
      "\n",
      "Most Common Result: 1001100010 with count 2\n",
      "\n",
      "Total measurements: 17\n",
      "\n",
      "Decimal measurement results: [610, 610, 481, 481, 903, 903, 50, 50, 387, 387, 948, 948, 503, 503, 278, 745, 863]\n",
      "\n",
      "Factors found: [10, 10, 2, 2, 2, 5, 10, 10, 2, 2, 2, 5, 3, 3, 3, 3, 2, 2, 2, 5, 2, 2, 2, 5, 3, 3, 3, 3, 2, 2]\n",
      "The factors of 15 are: 5 and 3\n"
     ]
    }
   ],
   "source": [
    "# The measurement result dictionary (you would use your actual results here)\n",
    "measurement_results = counts\n",
    "factors = []\n",
    "# Function to sort and print measurement results, and attempt to factorize the number\n",
    "def analyze_measurement_results_and_factorize(results, number_to_factor):\n",
    "    # Sorting the dictionary by the count of measurements in descending order\n",
    "    sorted_results = sorted(results.items(), key=lambda x: x[1], reverse=True)\n",
    "\n",
    "    print(\"Measurement Results (sorted by frequency):\\n\")\n",
    "    for result, count in sorted_results:\n",
    "        print(f\"{result}: {count}\")\n",
    "\n",
    "    # Finding the most common results\n",
    "    most_common_result = sorted_results[0]\n",
    "    print(f\"\\nMost Common Result: {most_common_result[0]} with count {most_common_result[1]}\")\n",
    "\n",
    "    # Optional: Summarize the overall counts\n",
    "    total_measurements = sum([count for result, count in sorted_results])\n",
    "    print(f\"\\nTotal measurements: {total_measurements}\")\n",
    "\n",
    "    # Simple approach to estimate factors based on measurement results\n",
    "    # Convert binary strings to decimal to simulate a part of Shor's algorithm outcome\n",
    "    decimal_results = [int(result, 2) for result, count in sorted_results for _ in range(count)]\n",
    "\n",
    "    print(f\"\\nDecimal measurement results: {decimal_results}\")\n",
    "\n",
    "    # We will look for the greatest common divisor (GCD) from the decimal results that could be factors of the number\n",
    "    from math import gcd\n",
    "\n",
    "    # Check GCD of each pair of results to find factors\n",
    "    for i in range(len(decimal_results)):\n",
    "        for j in range(i + 1, len(decimal_results)):\n",
    "            g = gcd(decimal_results[i], decimal_results[j])\n",
    "            if g > 1 and g < number_to_factor:\n",
    "                factors.append(g)\n",
    "\n",
    "    # Display the factors\n",
    "    print(f\"\\nFactors found: {factors}\")\n",
    "\n",
    "# Call the function with 15 as the number to factor\n",
    "analyze_measurement_results_and_factorize(measurement_results, 15)\n",
    "\n",
    "def find_factors(factors, N):\n",
    "    \"\"\"\n",
    "    Checks all possible pairs of factors from a given list to see if their product equals N.\n",
    "    \n",
    "    Args:\n",
    "    factors (list of int): List of potential factors.\n",
    "    N (int): The number to check against the product of the pairs.\n",
    "    \n",
    "    Returns:\n",
    "    tuple: A pair of factors that multiply to N, or None if no such pair is found.\n",
    "    \"\"\"\n",
    "    for i in range(len(factors)):\n",
    "        for j in range(i + 1, len(factors)):\n",
    "            if factors[i] * factors[j] == N:\n",
    "                return factors[i], factors[j]\n",
    "    return None\n",
    "\n",
    "\n",
    "result = find_factors(factors, N)\n",
    "if result:\n",
    "    print(f\"The factors of {N} are: {result[0]} and {result[1]}\")\n",
    "else:\n",
    "    print(f\"No factors in the list multiply to {N}\")\n"
   ]
  }
 ],
 "metadata": {
  "kernelspec": {
   "display_name": "Python 3",
   "language": "python",
   "name": "python3"
  },
  "language_info": {
   "codemirror_mode": {
    "name": "ipython",
    "version": 3
   },
   "file_extension": ".py",
   "mimetype": "text/x-python",
   "name": "python",
   "nbconvert_exporter": "python",
   "pygments_lexer": "ipython3",
   "version": "3.12.4"
  }
 },
 "nbformat": 4,
 "nbformat_minor": 2
}
